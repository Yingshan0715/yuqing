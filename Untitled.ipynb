{
 "cells": [
  {
   "cell_type": "code",
   "execution_count": 8,
   "metadata": {},
   "outputs": [],
   "source": [
    "import requests\n",
    "import re\n",
    "import sys\n",
    "from imp import reload"
   ]
  },
  {
   "cell_type": "code",
   "execution_count": 9,
   "metadata": {},
   "outputs": [
    {
     "ename": "AttributeError",
     "evalue": "module 'sys' has no attribute 'setdefaultencoding'",
     "output_type": "error",
     "traceback": [
      "\u001b[1;31m---------------------------------------------------------------------------\u001b[0m",
      "\u001b[1;31mAttributeError\u001b[0m                            Traceback (most recent call last)",
      "\u001b[1;32m<ipython-input-9-956404527733>\u001b[0m in \u001b[0;36m<module>\u001b[1;34m\u001b[0m\n\u001b[0;32m      1\u001b[0m \u001b[0mreload\u001b[0m\u001b[1;33m(\u001b[0m\u001b[0msys\u001b[0m\u001b[1;33m)\u001b[0m\u001b[1;33m\u001b[0m\u001b[0m\n\u001b[1;32m----> 2\u001b[1;33m \u001b[0msys\u001b[0m\u001b[1;33m.\u001b[0m\u001b[0msetdefaultencoding\u001b[0m\u001b[1;33m(\u001b[0m\u001b[1;34m'utf-8'\u001b[0m\u001b[1;33m)\u001b[0m\u001b[1;33m\u001b[0m\u001b[0m\n\u001b[0m",
      "\u001b[1;31mAttributeError\u001b[0m: module 'sys' has no attribute 'setdefaultencoding'"
     ]
    }
   ],
   "source": [
    "reload(sys)\n",
    "sys.setdefaultencoding('utf-8')"
   ]
  },
  {
   "cell_type": "code",
   "execution_count": 10,
   "metadata": {},
   "outputs": [],
   "source": [
    "tmpt_url = 'https://rate.tmall.com/list_detail_rate.htm?itemId=564430245247&spuId=925720635&sellerId=420722466&order=3&currentPage=%d'\n",
    "urllist = [tmpt_url%i for i in range(1,100)]"
   ]
  },
  {
   "cell_type": "code",
   "execution_count": 11,
   "metadata": {},
   "outputs": [
    {
     "data": {
      "text/plain": [
       "['https://rate.tmall.com/list_detail_rate.htm?itemId=564430245247&spuId=925720635&sellerId=420722466&order=3&currentPage=1',\n",
       " 'https://rate.tmall.com/list_detail_rate.htm?itemId=564430245247&spuId=925720635&sellerId=420722466&order=3&currentPage=2',\n",
       " 'https://rate.tmall.com/list_detail_rate.htm?itemId=564430245247&spuId=925720635&sellerId=420722466&order=3&currentPage=3',\n",
       " 'https://rate.tmall.com/list_detail_rate.htm?itemId=564430245247&spuId=925720635&sellerId=420722466&order=3&currentPage=4',\n",
       " 'https://rate.tmall.com/list_detail_rate.htm?itemId=564430245247&spuId=925720635&sellerId=420722466&order=3&currentPage=5',\n",
       " 'https://rate.tmall.com/list_detail_rate.htm?itemId=564430245247&spuId=925720635&sellerId=420722466&order=3&currentPage=6',\n",
       " 'https://rate.tmall.com/list_detail_rate.htm?itemId=564430245247&spuId=925720635&sellerId=420722466&order=3&currentPage=7',\n",
       " 'https://rate.tmall.com/list_detail_rate.htm?itemId=564430245247&spuId=925720635&sellerId=420722466&order=3&currentPage=8',\n",
       " 'https://rate.tmall.com/list_detail_rate.htm?itemId=564430245247&spuId=925720635&sellerId=420722466&order=3&currentPage=9',\n",
       " 'https://rate.tmall.com/list_detail_rate.htm?itemId=564430245247&spuId=925720635&sellerId=420722466&order=3&currentPage=10',\n",
       " 'https://rate.tmall.com/list_detail_rate.htm?itemId=564430245247&spuId=925720635&sellerId=420722466&order=3&currentPage=11',\n",
       " 'https://rate.tmall.com/list_detail_rate.htm?itemId=564430245247&spuId=925720635&sellerId=420722466&order=3&currentPage=12',\n",
       " 'https://rate.tmall.com/list_detail_rate.htm?itemId=564430245247&spuId=925720635&sellerId=420722466&order=3&currentPage=13',\n",
       " 'https://rate.tmall.com/list_detail_rate.htm?itemId=564430245247&spuId=925720635&sellerId=420722466&order=3&currentPage=14',\n",
       " 'https://rate.tmall.com/list_detail_rate.htm?itemId=564430245247&spuId=925720635&sellerId=420722466&order=3&currentPage=15',\n",
       " 'https://rate.tmall.com/list_detail_rate.htm?itemId=564430245247&spuId=925720635&sellerId=420722466&order=3&currentPage=16',\n",
       " 'https://rate.tmall.com/list_detail_rate.htm?itemId=564430245247&spuId=925720635&sellerId=420722466&order=3&currentPage=17',\n",
       " 'https://rate.tmall.com/list_detail_rate.htm?itemId=564430245247&spuId=925720635&sellerId=420722466&order=3&currentPage=18',\n",
       " 'https://rate.tmall.com/list_detail_rate.htm?itemId=564430245247&spuId=925720635&sellerId=420722466&order=3&currentPage=19',\n",
       " 'https://rate.tmall.com/list_detail_rate.htm?itemId=564430245247&spuId=925720635&sellerId=420722466&order=3&currentPage=20',\n",
       " 'https://rate.tmall.com/list_detail_rate.htm?itemId=564430245247&spuId=925720635&sellerId=420722466&order=3&currentPage=21',\n",
       " 'https://rate.tmall.com/list_detail_rate.htm?itemId=564430245247&spuId=925720635&sellerId=420722466&order=3&currentPage=22',\n",
       " 'https://rate.tmall.com/list_detail_rate.htm?itemId=564430245247&spuId=925720635&sellerId=420722466&order=3&currentPage=23',\n",
       " 'https://rate.tmall.com/list_detail_rate.htm?itemId=564430245247&spuId=925720635&sellerId=420722466&order=3&currentPage=24',\n",
       " 'https://rate.tmall.com/list_detail_rate.htm?itemId=564430245247&spuId=925720635&sellerId=420722466&order=3&currentPage=25',\n",
       " 'https://rate.tmall.com/list_detail_rate.htm?itemId=564430245247&spuId=925720635&sellerId=420722466&order=3&currentPage=26',\n",
       " 'https://rate.tmall.com/list_detail_rate.htm?itemId=564430245247&spuId=925720635&sellerId=420722466&order=3&currentPage=27',\n",
       " 'https://rate.tmall.com/list_detail_rate.htm?itemId=564430245247&spuId=925720635&sellerId=420722466&order=3&currentPage=28',\n",
       " 'https://rate.tmall.com/list_detail_rate.htm?itemId=564430245247&spuId=925720635&sellerId=420722466&order=3&currentPage=29',\n",
       " 'https://rate.tmall.com/list_detail_rate.htm?itemId=564430245247&spuId=925720635&sellerId=420722466&order=3&currentPage=30',\n",
       " 'https://rate.tmall.com/list_detail_rate.htm?itemId=564430245247&spuId=925720635&sellerId=420722466&order=3&currentPage=31',\n",
       " 'https://rate.tmall.com/list_detail_rate.htm?itemId=564430245247&spuId=925720635&sellerId=420722466&order=3&currentPage=32',\n",
       " 'https://rate.tmall.com/list_detail_rate.htm?itemId=564430245247&spuId=925720635&sellerId=420722466&order=3&currentPage=33',\n",
       " 'https://rate.tmall.com/list_detail_rate.htm?itemId=564430245247&spuId=925720635&sellerId=420722466&order=3&currentPage=34',\n",
       " 'https://rate.tmall.com/list_detail_rate.htm?itemId=564430245247&spuId=925720635&sellerId=420722466&order=3&currentPage=35',\n",
       " 'https://rate.tmall.com/list_detail_rate.htm?itemId=564430245247&spuId=925720635&sellerId=420722466&order=3&currentPage=36',\n",
       " 'https://rate.tmall.com/list_detail_rate.htm?itemId=564430245247&spuId=925720635&sellerId=420722466&order=3&currentPage=37',\n",
       " 'https://rate.tmall.com/list_detail_rate.htm?itemId=564430245247&spuId=925720635&sellerId=420722466&order=3&currentPage=38',\n",
       " 'https://rate.tmall.com/list_detail_rate.htm?itemId=564430245247&spuId=925720635&sellerId=420722466&order=3&currentPage=39',\n",
       " 'https://rate.tmall.com/list_detail_rate.htm?itemId=564430245247&spuId=925720635&sellerId=420722466&order=3&currentPage=40',\n",
       " 'https://rate.tmall.com/list_detail_rate.htm?itemId=564430245247&spuId=925720635&sellerId=420722466&order=3&currentPage=41',\n",
       " 'https://rate.tmall.com/list_detail_rate.htm?itemId=564430245247&spuId=925720635&sellerId=420722466&order=3&currentPage=42',\n",
       " 'https://rate.tmall.com/list_detail_rate.htm?itemId=564430245247&spuId=925720635&sellerId=420722466&order=3&currentPage=43',\n",
       " 'https://rate.tmall.com/list_detail_rate.htm?itemId=564430245247&spuId=925720635&sellerId=420722466&order=3&currentPage=44',\n",
       " 'https://rate.tmall.com/list_detail_rate.htm?itemId=564430245247&spuId=925720635&sellerId=420722466&order=3&currentPage=45',\n",
       " 'https://rate.tmall.com/list_detail_rate.htm?itemId=564430245247&spuId=925720635&sellerId=420722466&order=3&currentPage=46',\n",
       " 'https://rate.tmall.com/list_detail_rate.htm?itemId=564430245247&spuId=925720635&sellerId=420722466&order=3&currentPage=47',\n",
       " 'https://rate.tmall.com/list_detail_rate.htm?itemId=564430245247&spuId=925720635&sellerId=420722466&order=3&currentPage=48',\n",
       " 'https://rate.tmall.com/list_detail_rate.htm?itemId=564430245247&spuId=925720635&sellerId=420722466&order=3&currentPage=49',\n",
       " 'https://rate.tmall.com/list_detail_rate.htm?itemId=564430245247&spuId=925720635&sellerId=420722466&order=3&currentPage=50',\n",
       " 'https://rate.tmall.com/list_detail_rate.htm?itemId=564430245247&spuId=925720635&sellerId=420722466&order=3&currentPage=51',\n",
       " 'https://rate.tmall.com/list_detail_rate.htm?itemId=564430245247&spuId=925720635&sellerId=420722466&order=3&currentPage=52',\n",
       " 'https://rate.tmall.com/list_detail_rate.htm?itemId=564430245247&spuId=925720635&sellerId=420722466&order=3&currentPage=53',\n",
       " 'https://rate.tmall.com/list_detail_rate.htm?itemId=564430245247&spuId=925720635&sellerId=420722466&order=3&currentPage=54',\n",
       " 'https://rate.tmall.com/list_detail_rate.htm?itemId=564430245247&spuId=925720635&sellerId=420722466&order=3&currentPage=55',\n",
       " 'https://rate.tmall.com/list_detail_rate.htm?itemId=564430245247&spuId=925720635&sellerId=420722466&order=3&currentPage=56',\n",
       " 'https://rate.tmall.com/list_detail_rate.htm?itemId=564430245247&spuId=925720635&sellerId=420722466&order=3&currentPage=57',\n",
       " 'https://rate.tmall.com/list_detail_rate.htm?itemId=564430245247&spuId=925720635&sellerId=420722466&order=3&currentPage=58',\n",
       " 'https://rate.tmall.com/list_detail_rate.htm?itemId=564430245247&spuId=925720635&sellerId=420722466&order=3&currentPage=59',\n",
       " 'https://rate.tmall.com/list_detail_rate.htm?itemId=564430245247&spuId=925720635&sellerId=420722466&order=3&currentPage=60',\n",
       " 'https://rate.tmall.com/list_detail_rate.htm?itemId=564430245247&spuId=925720635&sellerId=420722466&order=3&currentPage=61',\n",
       " 'https://rate.tmall.com/list_detail_rate.htm?itemId=564430245247&spuId=925720635&sellerId=420722466&order=3&currentPage=62',\n",
       " 'https://rate.tmall.com/list_detail_rate.htm?itemId=564430245247&spuId=925720635&sellerId=420722466&order=3&currentPage=63',\n",
       " 'https://rate.tmall.com/list_detail_rate.htm?itemId=564430245247&spuId=925720635&sellerId=420722466&order=3&currentPage=64',\n",
       " 'https://rate.tmall.com/list_detail_rate.htm?itemId=564430245247&spuId=925720635&sellerId=420722466&order=3&currentPage=65',\n",
       " 'https://rate.tmall.com/list_detail_rate.htm?itemId=564430245247&spuId=925720635&sellerId=420722466&order=3&currentPage=66',\n",
       " 'https://rate.tmall.com/list_detail_rate.htm?itemId=564430245247&spuId=925720635&sellerId=420722466&order=3&currentPage=67',\n",
       " 'https://rate.tmall.com/list_detail_rate.htm?itemId=564430245247&spuId=925720635&sellerId=420722466&order=3&currentPage=68',\n",
       " 'https://rate.tmall.com/list_detail_rate.htm?itemId=564430245247&spuId=925720635&sellerId=420722466&order=3&currentPage=69',\n",
       " 'https://rate.tmall.com/list_detail_rate.htm?itemId=564430245247&spuId=925720635&sellerId=420722466&order=3&currentPage=70',\n",
       " 'https://rate.tmall.com/list_detail_rate.htm?itemId=564430245247&spuId=925720635&sellerId=420722466&order=3&currentPage=71',\n",
       " 'https://rate.tmall.com/list_detail_rate.htm?itemId=564430245247&spuId=925720635&sellerId=420722466&order=3&currentPage=72',\n",
       " 'https://rate.tmall.com/list_detail_rate.htm?itemId=564430245247&spuId=925720635&sellerId=420722466&order=3&currentPage=73',\n",
       " 'https://rate.tmall.com/list_detail_rate.htm?itemId=564430245247&spuId=925720635&sellerId=420722466&order=3&currentPage=74',\n",
       " 'https://rate.tmall.com/list_detail_rate.htm?itemId=564430245247&spuId=925720635&sellerId=420722466&order=3&currentPage=75',\n",
       " 'https://rate.tmall.com/list_detail_rate.htm?itemId=564430245247&spuId=925720635&sellerId=420722466&order=3&currentPage=76',\n",
       " 'https://rate.tmall.com/list_detail_rate.htm?itemId=564430245247&spuId=925720635&sellerId=420722466&order=3&currentPage=77',\n",
       " 'https://rate.tmall.com/list_detail_rate.htm?itemId=564430245247&spuId=925720635&sellerId=420722466&order=3&currentPage=78',\n",
       " 'https://rate.tmall.com/list_detail_rate.htm?itemId=564430245247&spuId=925720635&sellerId=420722466&order=3&currentPage=79',\n",
       " 'https://rate.tmall.com/list_detail_rate.htm?itemId=564430245247&spuId=925720635&sellerId=420722466&order=3&currentPage=80',\n",
       " 'https://rate.tmall.com/list_detail_rate.htm?itemId=564430245247&spuId=925720635&sellerId=420722466&order=3&currentPage=81',\n",
       " 'https://rate.tmall.com/list_detail_rate.htm?itemId=564430245247&spuId=925720635&sellerId=420722466&order=3&currentPage=82',\n",
       " 'https://rate.tmall.com/list_detail_rate.htm?itemId=564430245247&spuId=925720635&sellerId=420722466&order=3&currentPage=83',\n",
       " 'https://rate.tmall.com/list_detail_rate.htm?itemId=564430245247&spuId=925720635&sellerId=420722466&order=3&currentPage=84',\n",
       " 'https://rate.tmall.com/list_detail_rate.htm?itemId=564430245247&spuId=925720635&sellerId=420722466&order=3&currentPage=85',\n",
       " 'https://rate.tmall.com/list_detail_rate.htm?itemId=564430245247&spuId=925720635&sellerId=420722466&order=3&currentPage=86',\n",
       " 'https://rate.tmall.com/list_detail_rate.htm?itemId=564430245247&spuId=925720635&sellerId=420722466&order=3&currentPage=87',\n",
       " 'https://rate.tmall.com/list_detail_rate.htm?itemId=564430245247&spuId=925720635&sellerId=420722466&order=3&currentPage=88',\n",
       " 'https://rate.tmall.com/list_detail_rate.htm?itemId=564430245247&spuId=925720635&sellerId=420722466&order=3&currentPage=89',\n",
       " 'https://rate.tmall.com/list_detail_rate.htm?itemId=564430245247&spuId=925720635&sellerId=420722466&order=3&currentPage=90',\n",
       " 'https://rate.tmall.com/list_detail_rate.htm?itemId=564430245247&spuId=925720635&sellerId=420722466&order=3&currentPage=91',\n",
       " 'https://rate.tmall.com/list_detail_rate.htm?itemId=564430245247&spuId=925720635&sellerId=420722466&order=3&currentPage=92',\n",
       " 'https://rate.tmall.com/list_detail_rate.htm?itemId=564430245247&spuId=925720635&sellerId=420722466&order=3&currentPage=93',\n",
       " 'https://rate.tmall.com/list_detail_rate.htm?itemId=564430245247&spuId=925720635&sellerId=420722466&order=3&currentPage=94',\n",
       " 'https://rate.tmall.com/list_detail_rate.htm?itemId=564430245247&spuId=925720635&sellerId=420722466&order=3&currentPage=95',\n",
       " 'https://rate.tmall.com/list_detail_rate.htm?itemId=564430245247&spuId=925720635&sellerId=420722466&order=3&currentPage=96',\n",
       " 'https://rate.tmall.com/list_detail_rate.htm?itemId=564430245247&spuId=925720635&sellerId=420722466&order=3&currentPage=97',\n",
       " 'https://rate.tmall.com/list_detail_rate.htm?itemId=564430245247&spuId=925720635&sellerId=420722466&order=3&currentPage=98',\n",
       " 'https://rate.tmall.com/list_detail_rate.htm?itemId=564430245247&spuId=925720635&sellerId=420722466&order=3&currentPage=99']"
      ]
     },
     "execution_count": 11,
     "metadata": {},
     "output_type": "execute_result"
    }
   ],
   "source": [
    "urllist"
   ]
  },
  {
   "cell_type": "code",
   "execution_count": 12,
   "metadata": {},
   "outputs": [],
   "source": [
    "content = requests.get('https://rate.tmall.com/list_detail_rate.htm?itemId=564430245247&spuId=925720635&sellerId=420722466&order=3&currentPage=99').text"
   ]
  },
  {
   "cell_type": "code",
   "execution_count": 13,
   "metadata": {},
   "outputs": [
    {
     "data": {
      "text/plain": [
       "'\\r\\n\\r\\n{\"rgv587_flag\":\"sm\",\"url\":\"https://login.taobao.com/member/login.jhtml?style=mini&from=sm&full_redirect=false&redirectURL=https%3a%2f%2frate.tmall.com:443/list_detail_rate.htm/_____tmd_____/punish%3fx5secdata=5e0c8e1365474455070961b803bd560607b52cabf5960afff39b64ce58073f7844a8dd94c89edef01763e7bda2153e72fcab45d62d62d1d0fb9af411e98157f55151e037d30b894fa1b9f0617640df869886ed111be2b458db54a7948026a6fdab1f1f8894b2e5ef765c79e41e12f051af7d67a038305264b593dcc316f75d19df2f410daed4608fdbabd5ecc7cdc86cbdcc069decd5286fa906bbb897c9ebf2269bd13ce0189f80737ee2b28b9d6413014383d4a55a5c4e24b71c2123f723583886853cc460eb5a96489a3c572a8edb12b095da605a4b7b1f27772ccf52f0714036a6841edd3dcef56e69c23bf91ce79e3cfd3b7b1b6c17765723bac518d64cfbd23888ffe90d57c5f5517984b37bfa933173792b25f017b53508cecd9926e0b700d93bec5709adcdf0d7d7916075a746fabac8e27bc6ec8d92390e192c8fd9330a4d6e52d16b36bd3e1c87e3cfc9ea2d70d0c58ef5129d803642b18ea0f8038686342d16c037ea580057d2c777d452d8a1ae34d48a85dbad693979fbe55b5ab58cb61689f365a789b076e094134aa738c645929ec6a06044b146ca900a3ff6c90f4bf5eb6e20af40dc9ac45c5ee816a2d0eff56fc797b0860fb9b15bfe30deeb6fc4aa6d348b93ad37421b5d3779e81149ae8e03fac1bb2fd9b03377b20417094badc9e6e0afcc1a92b9ffa115775a3c1832b89eb0f60bf16db71d2c0172f3d2587dc802520cbc51fe0c2560de97e2%26x5step=100\"}'"
      ]
     },
     "execution_count": 13,
     "metadata": {},
     "output_type": "execute_result"
    }
   ],
   "source": [
    "content"
   ]
  },
  {
   "cell_type": "code",
   "execution_count": null,
   "metadata": {},
   "outputs": [],
   "source": []
  }
 ],
 "metadata": {
  "kernelspec": {
   "display_name": "Python 3",
   "language": "python",
   "name": "python3"
  },
  "language_info": {
   "codemirror_mode": {
    "name": "ipython",
    "version": 3
   },
   "file_extension": ".py",
   "mimetype": "text/x-python",
   "name": "python",
   "nbconvert_exporter": "python",
   "pygments_lexer": "ipython3",
   "version": "3.6.5"
  }
 },
 "nbformat": 4,
 "nbformat_minor": 2
}
