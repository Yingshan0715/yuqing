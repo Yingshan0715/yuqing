{
 "cells": [
  {
   "cell_type": "code",
   "execution_count": 33,
   "metadata": {},
   "outputs": [],
   "source": [
    "from yqcore import *\n",
    "import pandas as pd\n",
    "import jieba\n",
    "import re\n",
    "import os \n",
    "import pandas as pd\n",
    "import numpy as np"
   ]
  },
  {
   "cell_type": "code",
   "execution_count": 36,
   "metadata": {},
   "outputs": [],
   "source": [
    "path='C:/Users/yingshan.Zhang/Desktop/yuqing/'\n",
    "files=os.listdir(path)\n",
    "files_csv=list(filter(lambda x: x[-4:]=='.csv',files))"
   ]
  },
  {
   "cell_type": "code",
   "execution_count": 38,
   "metadata": {},
   "outputs": [],
   "source": [
    "data_list=[]\n",
    "for file in files_csv:\n",
    "    f=open(path+file,encoding='UTF-8')\n",
    "    pinglun=pd.read_csv(f)\n",
    "    f.close()\n",
    "    pinglun.rename(columns={pinglun.columns[0]:'content'},inplace=True)\n",
    "    f.close()\n",
    "    cibao=pd.read_excel('词包.xlsx',index=False)\n",
    "    df = pinglun.copy()\n",
    "    cibao[cibao.columns[-1]] = cibao[cibao.columns[-1]].map(lambda x:str(x))\n",
    "    df.content = df.content.astype(str)\n",
    "    for i in cibao[cibao.columns[-1]]:\n",
    "        df = keyword_columns(df,i)\n",
    "    cdf = df.sum(axis=0)\n",
    "    cibao['频数'] = cibao[cibao.columns[-1]].map(cdf)\n",
    "    res1=cibao.groupby(list(cibao.columns[:2]))[['频数']].sum()\n",
    "    res1['占比']=(res1['频数']/res1['频数'].sum()).map(lambda x:str(100*x)[:4]+'%')\n",
    "\n",
    "    res2=cibao.groupby(list(cibao.columns[:3]))[['频数']].sum()\n",
    "    res2['占比']=(res2['频数']/res2['频数'].sum()).map(lambda x:str(100*x)[:4]+'%')\n",
    "    \n",
    "    res3=cibao.groupby(list(cibao.columns[:4]))[['频数']].sum()\n",
    "    res3['占比']=(res3['频数']/res3['频数'].sum()).map(lambda x:str(100*x)[:4]+'%')\n",
    "    \n",
    "    \n",
    "    writer=pd.ExcelWriter(file[:-4]+'【分析结果】'+'.xlsx')\n",
    "    pinglun.to_excel(writer,'原始评论')\n",
    "    df.to_excel(writer,'词频检索')\n",
    "    res1.to_excel(writer,'一级索引展开统计')\n",
    "    res2.to_excel(writer,'二级索引展开统计')\n",
    "    res3.to_excel(writer,'检索词')\n",
    "    writer.save()"
   ]
  },
  {
   "cell_type": "code",
   "execution_count": 25,
   "metadata": {},
   "outputs": [],
   "source": [
    "data_list=[]\n",
    "for file in files_csv:\n",
    "    f=open(path+file,encoding='UTF-8')\n",
    "    pinglun=pd.read_csv(f)\n",
    "    f.close()\n",
    "    pinglun.rename(columns={pinglun.columns[0]:'content'},inplace=True)\n",
    "    f.close()\n",
    "    cibao=pd.read_excel('词包.xlsx',index=False)\n",
    "    df = pinglun.copy()\n",
    "    cibao[cibao.columns[-1]] = cibao[cibao.columns[-1]].map(lambda x:str(x))\n",
    "    df.content = df.content.astype(str)\n",
    "    for i in cibao[cibao.columns[-1]]:\n",
    "        df = keyword_columns(df,i)\n",
    "    cdf = df.sum(axis=0)\n",
    "    cibao['频数'] = cibao[cibao.columns[-1]].map(cdf)\n",
    "    res1=cibao.groupby(list(cibao.columns[:2]))[['频数']].sum()\n",
    "    res1['占比']=(res1['频数']/res1['频数'].sum()).map(lambda x:str(100*x)[:4]+'%')\n",
    "\n",
    "    res2=cibao.groupby(list(cibao.columns[:3]))[['频数']].sum()\n",
    "    res2['占比']=(res2['频数']/res2['频数'].sum()).map(lambda x:str(100*x)[:4]+'%')\n",
    "    \n",
    "    res3=cibao.groupby(list(cibao.columns[:4]))[['频数']].sum()\n",
    "    res3['占比']=(res3['频数']/res3['频数'].sum()).map(lambda x:str(100*x)[:4]+'%')\n",
    "    \n",
    "    res4=cibao.groupby(list(cibao.columns[:5]))[['频数']].sum()\n",
    "    res4['占比']=(res4['频数']/res4['频数'].sum()).map(lambda x:str(100*x)[:4]+'%')\n",
    "    \n",
    "    writer=pd.ExcelWriter(file[:-4]+'【分析结果】'+'.xlsx')\n",
    "    pinglun.to_excel(writer,'原始评论')\n",
    "    df.to_excel(writer,'词频检索')\n",
    "    res1.to_excel(writer,'一级索引展开统计')\n",
    "    res2.to_excel(writer,'二级索引展开统计')\n",
    "    res3.to_excel(writer,'检索词')\n",
    "    writer.save()"
   ]
  },
  {
   "cell_type": "code",
   "execution_count": 4,
   "metadata": {},
   "outputs": [
    {
     "ename": "FileNotFoundError",
     "evalue": "[Errno 2] No such file or directory: '词包.xlsx'",
     "output_type": "error",
     "traceback": [
      "\u001b[1;31m---------------------------------------------------------------------------\u001b[0m",
      "\u001b[1;31mFileNotFoundError\u001b[0m                         Traceback (most recent call last)",
      "\u001b[1;32m<ipython-input-4-8a150884d144>\u001b[0m in \u001b[0;36m<module>\u001b[1;34m\u001b[0m\n\u001b[0;32m      6\u001b[0m     \u001b[0mpinglun\u001b[0m\u001b[1;33m.\u001b[0m\u001b[0mrename\u001b[0m\u001b[1;33m(\u001b[0m\u001b[0mcolumns\u001b[0m\u001b[1;33m=\u001b[0m\u001b[1;33m{\u001b[0m\u001b[0mpinglun\u001b[0m\u001b[1;33m.\u001b[0m\u001b[0mcolumns\u001b[0m\u001b[1;33m[\u001b[0m\u001b[1;36m0\u001b[0m\u001b[1;33m]\u001b[0m\u001b[1;33m:\u001b[0m\u001b[1;34m'content'\u001b[0m\u001b[1;33m}\u001b[0m\u001b[1;33m,\u001b[0m\u001b[0minplace\u001b[0m\u001b[1;33m=\u001b[0m\u001b[1;32mTrue\u001b[0m\u001b[1;33m)\u001b[0m\u001b[1;33m\u001b[0m\u001b[0m\n\u001b[0;32m      7\u001b[0m     \u001b[0mf\u001b[0m\u001b[1;33m.\u001b[0m\u001b[0mclose\u001b[0m\u001b[1;33m(\u001b[0m\u001b[1;33m)\u001b[0m\u001b[1;33m\u001b[0m\u001b[0m\n\u001b[1;32m----> 8\u001b[1;33m     \u001b[0mcibao\u001b[0m\u001b[1;33m=\u001b[0m\u001b[0mpd\u001b[0m\u001b[1;33m.\u001b[0m\u001b[0mread_excel\u001b[0m\u001b[1;33m(\u001b[0m\u001b[1;34m'词包.xlsx'\u001b[0m\u001b[1;33m,\u001b[0m\u001b[0mindex\u001b[0m\u001b[1;33m=\u001b[0m\u001b[1;32mFalse\u001b[0m\u001b[1;33m)\u001b[0m\u001b[1;33m\u001b[0m\u001b[0m\n\u001b[0m\u001b[0;32m      9\u001b[0m     \u001b[0mdf\u001b[0m \u001b[1;33m=\u001b[0m \u001b[0mpinglun\u001b[0m\u001b[1;33m.\u001b[0m\u001b[0mcopy\u001b[0m\u001b[1;33m(\u001b[0m\u001b[1;33m)\u001b[0m\u001b[1;33m\u001b[0m\u001b[0m\n\u001b[0;32m     10\u001b[0m     \u001b[0mcibao\u001b[0m\u001b[1;33m[\u001b[0m\u001b[0mcibao\u001b[0m\u001b[1;33m.\u001b[0m\u001b[0mcolumns\u001b[0m\u001b[1;33m[\u001b[0m\u001b[1;33m-\u001b[0m\u001b[1;36m1\u001b[0m\u001b[1;33m]\u001b[0m\u001b[1;33m]\u001b[0m \u001b[1;33m=\u001b[0m \u001b[0mcibao\u001b[0m\u001b[1;33m[\u001b[0m\u001b[0mcibao\u001b[0m\u001b[1;33m.\u001b[0m\u001b[0mcolumns\u001b[0m\u001b[1;33m[\u001b[0m\u001b[1;33m-\u001b[0m\u001b[1;36m1\u001b[0m\u001b[1;33m]\u001b[0m\u001b[1;33m]\u001b[0m\u001b[1;33m.\u001b[0m\u001b[0mmap\u001b[0m\u001b[1;33m(\u001b[0m\u001b[1;32mlambda\u001b[0m \u001b[0mx\u001b[0m\u001b[1;33m:\u001b[0m\u001b[0mstr\u001b[0m\u001b[1;33m(\u001b[0m\u001b[0mx\u001b[0m\u001b[1;33m)\u001b[0m\u001b[1;33m)\u001b[0m\u001b[1;33m\u001b[0m\u001b[0m\n",
      "\u001b[1;32mC:\\python\\lib\\site-packages\\pandas\\util\\_decorators.py\u001b[0m in \u001b[0;36mwrapper\u001b[1;34m(*args, **kwargs)\u001b[0m\n\u001b[0;32m    176\u001b[0m                 \u001b[1;32melse\u001b[0m\u001b[1;33m:\u001b[0m\u001b[1;33m\u001b[0m\u001b[0m\n\u001b[0;32m    177\u001b[0m                     \u001b[0mkwargs\u001b[0m\u001b[1;33m[\u001b[0m\u001b[0mnew_arg_name\u001b[0m\u001b[1;33m]\u001b[0m \u001b[1;33m=\u001b[0m \u001b[0mnew_arg_value\u001b[0m\u001b[1;33m\u001b[0m\u001b[0m\n\u001b[1;32m--> 178\u001b[1;33m             \u001b[1;32mreturn\u001b[0m \u001b[0mfunc\u001b[0m\u001b[1;33m(\u001b[0m\u001b[1;33m*\u001b[0m\u001b[0margs\u001b[0m\u001b[1;33m,\u001b[0m \u001b[1;33m**\u001b[0m\u001b[0mkwargs\u001b[0m\u001b[1;33m)\u001b[0m\u001b[1;33m\u001b[0m\u001b[0m\n\u001b[0m\u001b[0;32m    179\u001b[0m         \u001b[1;32mreturn\u001b[0m \u001b[0mwrapper\u001b[0m\u001b[1;33m\u001b[0m\u001b[0m\n\u001b[0;32m    180\u001b[0m     \u001b[1;32mreturn\u001b[0m \u001b[0m_deprecate_kwarg\u001b[0m\u001b[1;33m\u001b[0m\u001b[0m\n",
      "\u001b[1;32mC:\\python\\lib\\site-packages\\pandas\\util\\_decorators.py\u001b[0m in \u001b[0;36mwrapper\u001b[1;34m(*args, **kwargs)\u001b[0m\n\u001b[0;32m    176\u001b[0m                 \u001b[1;32melse\u001b[0m\u001b[1;33m:\u001b[0m\u001b[1;33m\u001b[0m\u001b[0m\n\u001b[0;32m    177\u001b[0m                     \u001b[0mkwargs\u001b[0m\u001b[1;33m[\u001b[0m\u001b[0mnew_arg_name\u001b[0m\u001b[1;33m]\u001b[0m \u001b[1;33m=\u001b[0m \u001b[0mnew_arg_value\u001b[0m\u001b[1;33m\u001b[0m\u001b[0m\n\u001b[1;32m--> 178\u001b[1;33m             \u001b[1;32mreturn\u001b[0m \u001b[0mfunc\u001b[0m\u001b[1;33m(\u001b[0m\u001b[1;33m*\u001b[0m\u001b[0margs\u001b[0m\u001b[1;33m,\u001b[0m \u001b[1;33m**\u001b[0m\u001b[0mkwargs\u001b[0m\u001b[1;33m)\u001b[0m\u001b[1;33m\u001b[0m\u001b[0m\n\u001b[0m\u001b[0;32m    179\u001b[0m         \u001b[1;32mreturn\u001b[0m \u001b[0mwrapper\u001b[0m\u001b[1;33m\u001b[0m\u001b[0m\n\u001b[0;32m    180\u001b[0m     \u001b[1;32mreturn\u001b[0m \u001b[0m_deprecate_kwarg\u001b[0m\u001b[1;33m\u001b[0m\u001b[0m\n",
      "\u001b[1;32mC:\\python\\lib\\site-packages\\pandas\\io\\excel.py\u001b[0m in \u001b[0;36mread_excel\u001b[1;34m(io, sheet_name, header, names, index_col, usecols, squeeze, dtype, engine, converters, true_values, false_values, skiprows, nrows, na_values, parse_dates, date_parser, thousands, comment, skipfooter, convert_float, **kwds)\u001b[0m\n\u001b[0;32m    305\u001b[0m \u001b[1;33m\u001b[0m\u001b[0m\n\u001b[0;32m    306\u001b[0m     \u001b[1;32mif\u001b[0m \u001b[1;32mnot\u001b[0m \u001b[0misinstance\u001b[0m\u001b[1;33m(\u001b[0m\u001b[0mio\u001b[0m\u001b[1;33m,\u001b[0m \u001b[0mExcelFile\u001b[0m\u001b[1;33m)\u001b[0m\u001b[1;33m:\u001b[0m\u001b[1;33m\u001b[0m\u001b[0m\n\u001b[1;32m--> 307\u001b[1;33m         \u001b[0mio\u001b[0m \u001b[1;33m=\u001b[0m \u001b[0mExcelFile\u001b[0m\u001b[1;33m(\u001b[0m\u001b[0mio\u001b[0m\u001b[1;33m,\u001b[0m \u001b[0mengine\u001b[0m\u001b[1;33m=\u001b[0m\u001b[0mengine\u001b[0m\u001b[1;33m)\u001b[0m\u001b[1;33m\u001b[0m\u001b[0m\n\u001b[0m\u001b[0;32m    308\u001b[0m \u001b[1;33m\u001b[0m\u001b[0m\n\u001b[0;32m    309\u001b[0m     return io.parse(\n",
      "\u001b[1;32mC:\\python\\lib\\site-packages\\pandas\\io\\excel.py\u001b[0m in \u001b[0;36m__init__\u001b[1;34m(self, io, **kwds)\u001b[0m\n\u001b[0;32m    392\u001b[0m             \u001b[0mself\u001b[0m\u001b[1;33m.\u001b[0m\u001b[0mbook\u001b[0m \u001b[1;33m=\u001b[0m \u001b[0mxlrd\u001b[0m\u001b[1;33m.\u001b[0m\u001b[0mopen_workbook\u001b[0m\u001b[1;33m(\u001b[0m\u001b[0mfile_contents\u001b[0m\u001b[1;33m=\u001b[0m\u001b[0mdata\u001b[0m\u001b[1;33m)\u001b[0m\u001b[1;33m\u001b[0m\u001b[0m\n\u001b[0;32m    393\u001b[0m         \u001b[1;32melif\u001b[0m \u001b[0misinstance\u001b[0m\u001b[1;33m(\u001b[0m\u001b[0mself\u001b[0m\u001b[1;33m.\u001b[0m\u001b[0m_io\u001b[0m\u001b[1;33m,\u001b[0m \u001b[0mcompat\u001b[0m\u001b[1;33m.\u001b[0m\u001b[0mstring_types\u001b[0m\u001b[1;33m)\u001b[0m\u001b[1;33m:\u001b[0m\u001b[1;33m\u001b[0m\u001b[0m\n\u001b[1;32m--> 394\u001b[1;33m             \u001b[0mself\u001b[0m\u001b[1;33m.\u001b[0m\u001b[0mbook\u001b[0m \u001b[1;33m=\u001b[0m \u001b[0mxlrd\u001b[0m\u001b[1;33m.\u001b[0m\u001b[0mopen_workbook\u001b[0m\u001b[1;33m(\u001b[0m\u001b[0mself\u001b[0m\u001b[1;33m.\u001b[0m\u001b[0m_io\u001b[0m\u001b[1;33m)\u001b[0m\u001b[1;33m\u001b[0m\u001b[0m\n\u001b[0m\u001b[0;32m    395\u001b[0m         \u001b[1;32melse\u001b[0m\u001b[1;33m:\u001b[0m\u001b[1;33m\u001b[0m\u001b[0m\n\u001b[0;32m    396\u001b[0m             raise ValueError('Must explicitly set engine if not passing in'\n",
      "\u001b[1;32mC:\\python\\lib\\site-packages\\xlrd\\__init__.py\u001b[0m in \u001b[0;36mopen_workbook\u001b[1;34m(filename, logfile, verbosity, use_mmap, file_contents, encoding_override, formatting_info, on_demand, ragged_rows)\u001b[0m\n\u001b[0;32m    114\u001b[0m         \u001b[0mpeek\u001b[0m \u001b[1;33m=\u001b[0m \u001b[0mfile_contents\u001b[0m\u001b[1;33m[\u001b[0m\u001b[1;33m:\u001b[0m\u001b[0mpeeksz\u001b[0m\u001b[1;33m]\u001b[0m\u001b[1;33m\u001b[0m\u001b[0m\n\u001b[0;32m    115\u001b[0m     \u001b[1;32melse\u001b[0m\u001b[1;33m:\u001b[0m\u001b[1;33m\u001b[0m\u001b[0m\n\u001b[1;32m--> 116\u001b[1;33m         \u001b[1;32mwith\u001b[0m \u001b[0mopen\u001b[0m\u001b[1;33m(\u001b[0m\u001b[0mfilename\u001b[0m\u001b[1;33m,\u001b[0m \u001b[1;34m\"rb\"\u001b[0m\u001b[1;33m)\u001b[0m \u001b[1;32mas\u001b[0m \u001b[0mf\u001b[0m\u001b[1;33m:\u001b[0m\u001b[1;33m\u001b[0m\u001b[0m\n\u001b[0m\u001b[0;32m    117\u001b[0m             \u001b[0mpeek\u001b[0m \u001b[1;33m=\u001b[0m \u001b[0mf\u001b[0m\u001b[1;33m.\u001b[0m\u001b[0mread\u001b[0m\u001b[1;33m(\u001b[0m\u001b[0mpeeksz\u001b[0m\u001b[1;33m)\u001b[0m\u001b[1;33m\u001b[0m\u001b[0m\n\u001b[0;32m    118\u001b[0m     \u001b[1;32mif\u001b[0m \u001b[0mpeek\u001b[0m \u001b[1;33m==\u001b[0m \u001b[1;34mb\"PK\\x03\\x04\"\u001b[0m\u001b[1;33m:\u001b[0m \u001b[1;31m# a ZIP file\u001b[0m\u001b[1;33m\u001b[0m\u001b[0m\n",
      "\u001b[1;31mFileNotFoundError\u001b[0m: [Errno 2] No such file or directory: '词包.xlsx'"
     ]
    }
   ],
   "source": [
    "data_list=[]\n",
    "for file in files_csv:\n",
    "    f=open(path+file,encoding='UTF-8')\n",
    "    pinglun=pd.read_csv(f)\n",
    "    f.close()\n",
    "    pinglun.rename(columns={pinglun.columns[0]:'content'},inplace=True)\n",
    "    f.close()\n",
    "    cibao=pd.read_excel('词包.xlsx',index=False)\n",
    "    df = pinglun.copy()\n",
    "    cibao[cibao.columns[-1]] = cibao[cibao.columns[-1]].map(lambda x:str(x))\n",
    "    df.content = df.content.astype(str)\n",
    "    for i in cibao[cibao.columns[-1]]:\n",
    "        df = keyword_columns(df,i)\n",
    "    cdf = df.sum(axis=0)\n",
    "    cibao['频数'] = cibao[cibao.columns[-1]].map(cdf)\n",
    "    res1=cibao.groupby(list(cibao.columns[:2]))[['频数']].sum()\n",
    "    res1['占比']=(res1['频数']/res1['频数'].sum()).map(lambda x:str(100*x)[:4]+'%')\n",
    "\n",
    "    res2=cibao.groupby(list(cibao.columns[:3]))[['频数']].sum()\n",
    "    res2['占比']=(res2['频数']/res2['频数'].sum()).map(lambda x:str(100*x)[:4]+'%')\n",
    "    \n",
    "    res3=cibao.groupby(list(cibao.columns[:4]))[['频数']].sum()\n",
    "    res3['占比']=(res3['频数']/res3['频数'].sum()).map(lambda x:str(100*x)[:4]+'%')\n",
    "    \n",
    "    writer=pd.ExcelWriter(file[:-4]+'【分析结果】'+'.xlsx')\n",
    "    pinglun.to_excel(writer,'原始评论')\n",
    "    df.to_excel(writer,'词频检索')\n",
    "    res1.to_excel(writer,'分组结果统计')\n",
    "    res2.to_excel(writer,'索引展开统计')\n",
    "    res3.to_excel(writer,'检索词')\n",
    "    writer.save()"
   ]
  },
  {
   "cell_type": "code",
   "execution_count": null,
   "metadata": {},
   "outputs": [],
   "source": [
    "data_list=[]\n",
    "for file in files_csv:\n",
    "    f=open(path+file,encoding='UTF-8')\n",
    "    pinglun=pd.read_csv(f)\n",
    "    f.close()\n",
    "    pinglun.rename(columns={pinglun.columns[0]:'content'},inplace=True)\n",
    "    f.close()\n",
    "    cibao=pd.read_excel('词包.xlsx',index=False)\n",
    "    df = pinglun.copy()\n",
    "    cibao[cibao.columns[-1]] = cibao[cibao.columns[-1]].map(lambda x:str(x))\n",
    "    df.content = df.content.astype(str)\n",
    "    for i in cibao[cibao.columns[-1]]:\n",
    "        df = keyword_columns(df,i)\n",
    "    cdf = df.sum(axis=0)\n",
    "    cibao['频数'] = cibao[cibao.columns[-1]].map(cdf)\n",
    "    res1=cibao.groupby(list(cibao.columns[:3]))[['频数']].sum()\n",
    "    res1['占比']=(res1['频数']/res1['频数'].sum()).map(lambda x:str(100*x)[:4]+'%')\n",
    "    \n",
    "    res1=res1.groupby(list(res1.columns[:3]))[['频数','占比']]\n",
    "    writer=pd.ExcelWriter(file[:-4]+'【分析结果】'+'.xlsx')\n",
    "    pinglun.to_excel(writer,'原始评论',index=False)\n",
    "    df.to_excel(writer,'词频检索',index=False)\n",
    "    res1.to_excel(writer,'分组结果统计',index=False)\n",
    "    writer.save()"
   ]
  },
  {
   "cell_type": "code",
   "execution_count": null,
   "metadata": {},
   "outputs": [],
   "source": [
    "res1['占比']=(res1['频数']/res1['频数'].sum()).map(lambda x:str(100*x)[:4]+'%')\n",
    "res1=res1.reset_index()\n",
    "res1.groupby(list(res1.columns[:3]))[['频数','占比']]"
   ]
  },
  {
   "cell_type": "code",
   "execution_count": null,
   "metadata": {},
   "outputs": [],
   "source": [
    "res2=cibao.groupby(list(cibao.columns[:4]))[['频数']].sum()\n",
    "res2['占比']=(res2['频数']/res2['频数'].sum()).map(lambda x:str(100*x)[:4]+'%')\n",
    "res2=res2.reset_index()\n",
    "res2.loc[res2['频数'].isin(0),]"
   ]
  },
  {
   "cell_type": "code",
   "execution_count": null,
   "metadata": {},
   "outputs": [],
   "source": [
    "res.to_excel(file[:-4]+'.xlsx')"
   ]
  },
  {
   "cell_type": "code",
   "execution_count": null,
   "metadata": {},
   "outputs": [],
   "source": [
    "cibao=pd.read_excel('Swisse+竞品舆情分析关键词包（0310）.xlsx',index=False)\n",
    "cibao"
   ]
  },
  {
   "cell_type": "code",
   "execution_count": null,
   "metadata": {},
   "outputs": [],
   "source": [
    "f=open('C:/Users/yingshan.Zhang/Desktop/yuqing/Nike 耐克官方 NIKE M2K TEKNO 女子运动鞋 AO3108.csv',encoding='UTF-8')\n",
    "pinglun=pd.read_csv(f)\n",
    "pinglun.rename(columns={pinglun.columns[0]:'content'},inplace=True)\n",
    "f.close()\n",
    "pinglun.head(5)\n",
    "cibao=pd.read_excel('Swisse+竞品舆情分析关键词包（0310）.xlsx',index=False)\n",
    "df = pinglun.copy()\n",
    "cibao[cibao.columns[-1]] = cibao[cibao.columns[-1]].map(lambda x:str(x))\n",
    "df.content = df.content.astype(str)\n",
    "for i in cibao[cibao.columns[-1]]:\n",
    "    df = keyword_columns(df,i)\n",
    "df.head(5)\n",
    "cibao[cibao.columns[-1]]"
   ]
  },
  {
   "cell_type": "code",
   "execution_count": null,
   "metadata": {},
   "outputs": [],
   "source": [
    "cibao['频数'] =  cibao[cibao.columns[-1]].map(cdf)\n",
    "res=cibao.groupby(list(cibao.columns[:2]))[['频数']].sum()\n",
    "res['占比']=(res['频数']/res['频数'].sum()).map(lambda x:str(100*x)[:4]+'%')\n",
    "res"
   ]
  },
  {
   "cell_type": "code",
   "execution_count": null,
   "metadata": {},
   "outputs": [],
   "source": [
    "res[:2]"
   ]
  },
  {
   "cell_type": "code",
   "execution_count": null,
   "metadata": {},
   "outputs": [],
   "source": []
  }
 ],
 "metadata": {
  "kernelspec": {
   "display_name": "Python 3",
   "language": "python",
   "name": "python3"
  },
  "language_info": {
   "codemirror_mode": {
    "name": "ipython",
    "version": 3
   },
   "file_extension": ".py",
   "mimetype": "text/x-python",
   "name": "python",
   "nbconvert_exporter": "python",
   "pygments_lexer": "ipython3",
   "version": "3.6.5"
  }
 },
 "nbformat": 4,
 "nbformat_minor": 2
}
